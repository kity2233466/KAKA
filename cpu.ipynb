{
  "nbformat": 4,
  "nbformat_minor": 0,
  "metadata": {
    "colab": {
      "provenance": []
    },
    "kernelspec": {
      "name": "python3",
      "display_name": "Python 3"
    },
    "language_info": {
      "name": "python"
    }
  },
  "cells": [
    {
      "cell_type": "markdown",
      "source": [
        "請注意這是CPU版!!!!!!"
      ],
      "metadata": {
        "id": "qaqf9hRBy8do"
      }
    },
    {
      "cell_type": "code",
      "execution_count": 15,
      "metadata": {
        "colab": {
          "base_uri": "https://localhost:8080/"
        },
        "id": "n4dw0hFdHvwu",
        "outputId": "e284887c-88f4-4cc0-c01e-0eee8604ff9a"
      },
      "outputs": [
        {
          "output_type": "stream",
          "name": "stdout",
          "text": [
            "Drive already mounted at /content/gdrive; to attempt to forcibly remount, call drive.mount(\"/content/gdrive\", force_remount=True).\n"
          ]
        }
      ],
      "source": [
        "from google.colab import drive\n",
        "drive.mount('/content/gdrive')"
      ]
    },
    {
      "cell_type": "code",
      "source": [
        "! ls"
      ],
      "metadata": {
        "id": "FTu8d333Le1J",
        "colab": {
          "base_uri": "https://localhost:8080/"
        },
        "outputId": "0f4b8417-085d-4e24-833c-91949107a0c1"
      },
      "execution_count": 16,
      "outputs": [
        {
          "output_type": "stream",
          "name": "stdout",
          "text": [
            "gdrive\tMNIST  sample_data\n"
          ]
        }
      ]
    },
    {
      "cell_type": "code",
      "source": [
        "import torch\n",
        "from torchvision import datasets, transforms\n",
        "\n",
        "import torch.nn as nn\n",
        "import torch.nn.functional as F\n",
        "\n",
        "import torch.optim as optim\n",
        "import matplotlib.pyplot as plt"
      ],
      "metadata": {
        "id": "LhTQhsN7tXPY"
      },
      "execution_count": 17,
      "outputs": []
    },
    {
      "cell_type": "code",
      "source": [
        "class Network(nn.Module):\n",
        "  def __init__(self):\n",
        "    super().__init__()\n",
        "    # image 28 X 28 = 784\n",
        "    self.input_layer = nn.Linear(784, 64)\n",
        "    self.hidden1 = nn.Linear(64, 64)\n",
        "    self.hidden2 = nn.Linear(64, 64)\n",
        "    self.output_layer = nn.Linear(64, 10)\n",
        "  def forward(self, data):\n",
        "    data = F.relu(self.input_layer(data))\n",
        "    data = F.relu(self.hidden1(data))\n",
        "    data = F.relu(self.hidden2(data))\n",
        "    data = self.output_layer(data)\n",
        "    return F.log_softmax(data, dim=1)"
      ],
      "metadata": {
        "id": "_WDxxahGtZFQ"
      },
      "execution_count": 18,
      "outputs": []
    },
    {
      "cell_type": "code",
      "source": [
        "training = datasets.MNIST(\"\", train=True, download=True,\n",
        "             transform = transforms.Compose([transforms.ToTensor()]))\n",
        "\n",
        "testing = datasets.MNIST(\"\", train=False, download=True,\n",
        "              transform = transforms.Compose([transforms.ToTensor()]))"
      ],
      "metadata": {
        "id": "5pxGefSNY8Bj"
      },
      "execution_count": 19,
      "outputs": []
    },
    {
      "cell_type": "code",
      "source": [
        "train_set = torch.utils.data.DataLoader(training, batch_size=10, shuffle=True)\n",
        "test_set = torch.utils.data.DataLoader(testing, batch_size=10, shuffle=True)"
      ],
      "metadata": {
        "id": "bVI_AkGDhJEQ"
      },
      "execution_count": 20,
      "outputs": []
    },
    {
      "cell_type": "code",
      "source": [
        "network = Network()"
      ],
      "metadata": {
        "id": "R0J2IH1vh_7Q"
      },
      "execution_count": 21,
      "outputs": []
    },
    {
      "cell_type": "code",
      "source": [
        "learn_rate = optim.Adam(network.parameters(), lr=0.001)\n",
        "epochs = 10"
      ],
      "metadata": {
        "id": "BH30ZGNFiLIF"
      },
      "execution_count": 22,
      "outputs": []
    },
    {
      "cell_type": "code",
      "source": [
        "for i in range(epochs):\n",
        "    for data in train_set:\n",
        "        image, output = data\n",
        "        network.zero_grad()\n",
        "        result = network(image.view(-1,784))\n",
        "        loss = F.nll_loss(result,output)\n",
        "        loss.backward()\n",
        "        learn_rate.step()\n",
        "    print(loss)\n"
      ],
      "metadata": {
        "colab": {
          "base_uri": "https://localhost:8080/"
        },
        "id": "pkIC8LZFjCz2",
        "outputId": "4e5f8cf4-3069-4959-e0b4-94f6fd0674df"
      },
      "execution_count": 23,
      "outputs": [
        {
          "output_type": "stream",
          "name": "stdout",
          "text": [
            "tensor(0.0472, grad_fn=<NllLossBackward0>)\n",
            "tensor(0.0286, grad_fn=<NllLossBackward0>)\n",
            "tensor(0.1023, grad_fn=<NllLossBackward0>)\n",
            "tensor(0.0156, grad_fn=<NllLossBackward0>)\n",
            "tensor(0.0273, grad_fn=<NllLossBackward0>)\n",
            "tensor(5.7263e-05, grad_fn=<NllLossBackward0>)\n",
            "tensor(0.0036, grad_fn=<NllLossBackward0>)\n",
            "tensor(0.0008, grad_fn=<NllLossBackward0>)\n",
            "tensor(0.0040, grad_fn=<NllLossBackward0>)\n",
            "tensor(0.0002, grad_fn=<NllLossBackward0>)\n"
          ]
        }
      ]
    },
    {
      "cell_type": "code",
      "source": [
        "network.eval()\n",
        "\n",
        "correct = 0\n",
        "total = 0\n",
        "\n",
        "with torch.no_grad():\n",
        "  for data in test_set:\n",
        "    image, output = data\n",
        "    result = network(image.view(-1,784))\n",
        "    for index, tensor_value in enumerate(result):\n",
        "      total += 1\n",
        "      if torch.argmax(tensor_value) == output[index]:\n",
        "        correct += 1\n",
        "\n",
        "accuracy = correct / total\n",
        "print (f\"Accuracy: (accuracy)\")"
      ],
      "metadata": {
        "colab": {
          "base_uri": "https://localhost:8080/"
        },
        "id": "o-JkSfvyjv4J",
        "outputId": "11484e40-5055-4c33-f237-7c9b6d1cbf16"
      },
      "execution_count": 24,
      "outputs": [
        {
          "output_type": "stream",
          "name": "stdout",
          "text": [
            "Accuracy: (accuracy)\n"
          ]
        }
      ]
    }
  ]
}